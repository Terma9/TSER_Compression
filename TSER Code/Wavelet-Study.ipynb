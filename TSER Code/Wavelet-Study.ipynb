{
 "cells": [
  {
   "cell_type": "code",
   "execution_count": 33,
   "metadata": {},
   "outputs": [],
   "source": [
    "import numpy as np\n",
    "import matplotlib.pyplot as plt\n",
    "import create_prepared_data\n",
    "import compression"
   ]
  },
  {
   "cell_type": "code",
   "execution_count": null,
   "metadata": {},
   "outputs": [],
   "source": [
    "# Plot Dropout-Value vs Compression Ratio and RMSE for each Dataset\n",
    "# All 3 Techniques in one plot\n",
    "\n",
    "# Steps: Increase Dropout-Value with tiny steps. Starting from 0.5000 to 0.9999. Calculate Compression Ratio and RMSE for each value.\n",
    "# Plot Comp_Ratio vs RMSE in one plot. -> Matplotlib puts all of them automatically on the same scale!\n",
    "\n",
    "\n",
    "dataset_path = \"/home/sim/Desktop/TS Extrinsic Regression/data/AppliancesEnergy_TRAIN.ts\"\n",
    "compression_type = 'dft'\n",
    "\n",
    "# make smaller steps for more accurate plot\n",
    "steps = np.arange(0.000, 1.000, 0.001)\n",
    "comp_ratios = np.empty_like(steps)\n",
    "rmses = np.empty_like(steps)\n",
    "\n",
    "for i in steps:\n",
    "    # Get CompRatio\n",
    "    array_flatdim = load_and_compress(dataset_path,compression_type,comp_param=i,andDecompress=False)\n",
    "    \n",
    "\n",
    "\n",
    "\n",
    "\n",
    "\n",
    "\n",
    "\n",
    "\n",
    "\n",
    "\n",
    "\n",
    "\n"
   ]
  }
 ],
 "metadata": {
  "kernelspec": {
   "display_name": ".venvAutogluon",
   "language": "python",
   "name": "python3"
  },
  "language_info": {
   "codemirror_mode": {
    "name": "ipython",
    "version": 3
   },
   "file_extension": ".py",
   "mimetype": "text/x-python",
   "name": "python",
   "nbconvert_exporter": "python",
   "pygments_lexer": "ipython3",
   "version": "3.10.12"
  }
 },
 "nbformat": 4,
 "nbformat_minor": 2
}
