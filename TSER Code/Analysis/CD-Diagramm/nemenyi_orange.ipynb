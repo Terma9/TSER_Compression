{
 "cells": [
  {
   "cell_type": "markdown",
   "metadata": {},
   "source": [
    "How to use:\n",
    "- Pareto: Load the .csv file, transfer in this cwd, and let run\n",
    "- Models: Adapt odt and save! then let run here -> No Friedman Test for that so far implemented!\n",
    "- To get only ranks table, return ranked_df in do_ranking"
   ]
  },
  {
   "cell_type": "code",
   "execution_count": 1,
   "metadata": {},
   "outputs": [],
   "source": [
    "import pandas as pd\n",
    "from scipy.stats import friedmanchisquare"
   ]
  },
  {
   "cell_type": "code",
   "execution_count": 2,
   "metadata": {},
   "outputs": [],
   "source": [
    "# Method to Create Average rank of an df with 'dataset_name', 'classifier_name', accuracy\n",
    "# The higher the accuracy, the better the rank!\n",
    "\n",
    "def do_ranking(melted_df):\n",
    "\n",
    "    def rank_accuracies(group):\n",
    "        # Sort by accuracy\n",
    "        sorted_group = group.sort_values('accuracy')\n",
    "        # Compute ranks\n",
    "        sorted_group['rank'] = sorted_group['accuracy'].rank(method='average')\n",
    "        return sorted_group\n",
    "\n",
    "    # Apply ranking within each dataset_name\n",
    "    ranked_df = melted_df.groupby('dataset_name').apply(rank_accuracies).reset_index(drop=True)\n",
    "    print('...........')\n",
    "    #print(ranked_df)\n",
    "\n",
    "    # Compute average rank per classifier\n",
    "    average_rank_per_classifier = ranked_df.copy().groupby('classifier_name')['rank'].mean().reset_index()\n",
    "    average_rank_per_classifier = average_rank_per_classifier.sort_values(by='rank', ascending=True).reset_index(drop=True)\n",
    "\n",
    "    # Extract lists\n",
    "    classifier_names = average_rank_per_classifier['classifier_name'].tolist()\n",
    "    average_ranks = average_rank_per_classifier['rank'].tolist()\n",
    "\n",
    "    # Display the lists\n",
    "    print(\"Classifier Names:\", classifier_names)\n",
    "    print(\"Average Ranks:\", average_ranks)\n",
    "\n",
    "    # Return the DataFrame sorted by average rank\n",
    "    return average_rank_per_classifier, classifier_names, average_ranks, ranked_df\n"
   ]
  },
  {
   "cell_type": "code",
   "execution_count": 3,
   "metadata": {},
   "outputs": [],
   "source": [
    "def perform_friedman_test(df, alpha=0.05):\n",
    "    \"\"\"\n",
    "    Perform the Friedman test to compare classifiers based on accuracy.\n",
    "\n",
    "    Parameters:\n",
    "    df (pd.DataFrame): DataFrame with columns 'classifier_name', 'dataset_name', and 'accuracy'.\n",
    "    alpha (float): Significance level for the test. Default is 0.05.\n",
    "\n",
    "    Returns:\n",
    "    None: Prints the Friedman test results and interpretation.\n",
    "    \"\"\"\n",
    "    # Pivot the DataFrame to have each dataset as rows and classifiers as columns\n",
    "    df_pivot = df.pivot_table(index='dataset_name', columns='classifier_name', values='accuracy')\n",
    "\n",
    "    # Drop any rows with NaN values (if there are any datasets without all classifiers)\n",
    "    df_pivot = df_pivot.dropna()\n",
    "\n",
    "    # Check the reshaped DataFrame\n",
    "    print(df_pivot)\n",
    "\n",
    "    # Perform the Friedman test\n",
    "    classifiers = df_pivot.columns\n",
    "    if len(classifiers) < 2:\n",
    "        raise ValueError(\"At least two classifiers are required to perform the Friedman test.\")\n",
    "    \n",
    "    # Extract accuracy values for each classifier\n",
    "    test_args = [df_pivot[classifier] for classifier in classifiers]\n",
    "    stat, p_value = friedmanchisquare(*test_args)\n",
    "\n",
    "    # Print the Friedman test statistic and p-value\n",
    "    print(f'Friedman test statistic: {stat}')\n",
    "    print(f'p-value: {p_value}')\n",
    "\n",
    "    # Interpret the result\n",
    "    if p_value < alpha:\n",
    "        print(f'There is a significant difference between the classifiers (alpha = {alpha}).')\n",
    "    else:\n",
    "        print(f'There is no significant difference between the classifiers (alpha = {alpha}).')"
   ]
  },
  {
   "cell_type": "code",
   "execution_count": 37,
   "metadata": {},
   "outputs": [
    {
     "name": "stdout",
     "output_type": "stream",
     "text": [
      "   classifier_name                dataset_name  accuracy\n",
      "0              dwt        BenzeneConcentration        -5\n",
      "1              dft        BenzeneConcentration        -2\n",
      "2              dct        BenzeneConcentration        -2\n",
      "3              dwt          BeijingPM25Quality        -5\n",
      "4              dft          BeijingPM25Quality        -4\n",
      "5              dct          BeijingPM25Quality        -3\n",
      "6              dwt              FloodModeling1        -6\n",
      "7              dft              FloodModeling1        -1\n",
      "8              dct              FloodModeling1         0\n",
      "9              dwt          BeijingPM10Quality        -3\n",
      "10             dft          BeijingPM10Quality        -4\n",
      "11             dct          BeijingPM10Quality        -1\n",
      "12             dwt  HouseholdPowerConsumption1        -2\n",
      "13             dft  HouseholdPowerConsumption1        -2\n",
      "14             dct  HouseholdPowerConsumption1         0\n",
      "15             dwt                     IEEEPPG        -1\n",
      "16             dft                     IEEEPPG        -1\n",
      "17             dct                     IEEEPPG         0\n",
      "18             dwt                 Covid3Month         0\n",
      "19             dft                 Covid3Month        -1\n",
      "20             dct                 Covid3Month         0\n",
      "21             dwt            AppliancesEnergy        -4\n",
      "22             dft            AppliancesEnergy        -2\n",
      "23             dct            AppliancesEnergy        -1\n",
      "...........\n",
      "Classifier Names: ['dwt', 'dft', 'dct']\n",
      "Average Ranks: [1.4375, 1.6875, 2.875]\n"
     ]
    },
    {
     "name": "stderr",
     "output_type": "stream",
     "text": [
      "/tmp/ipykernel_14013/3430632323.py:14: DeprecationWarning: DataFrameGroupBy.apply operated on the grouping columns. This behavior is deprecated, and in a future version of pandas the grouping columns will be excluded from the operation. Either pass `include_groups=False` to exclude the groupings or explicitly select the grouping columns after groupby to silence this warning.\n",
      "  ranked_df = melted_df.groupby('dataset_name').apply(rank_accuracies).reset_index(drop=True)\n"
     ]
    }
   ],
   "source": [
    "# Pre loaded Datasets of the pareto values in the proper form\n",
    "\n",
    "#path = 'rmse_FLAML Results_count_df.csv' # dwt, dft close and no critical difference\n",
    "#path = 'msmape_FLAML Results_count_df.csv' # dwt winner\n",
    "#path = 'rmse_Agluon Results_count_df.csv'\n",
    "#path = 'msmape_Agluon Results_count_df.csv' \n",
    "\n",
    "path = 'mape_FLAML Results_count_df.csv' # dwt winner\n",
    "#path = 'mape_Agluon Results_count_df.csv'\n",
    "\n",
    "\n",
    "df_perf = pd.read_csv(path, index_col=False)\n",
    "\n",
    "# do_ranking ranks after lower values! lower error!\n",
    "df_perf['accuracy'] = df_perf['accuracy'] * -1\n",
    "\n",
    "print(df_perf)\n",
    "ranked , classifiers, average_ranks, ranked_df = do_ranking(df_perf)\n"
   ]
  },
  {
   "cell_type": "code",
   "execution_count": 38,
   "metadata": {},
   "outputs": [
    {
     "name": "stdout",
     "output_type": "stream",
     "text": [
      "classifier_name             dct  dft  dwt\n",
      "dataset_name                             \n",
      "AppliancesEnergy           -1.0 -2.0 -4.0\n",
      "BeijingPM10Quality         -1.0 -4.0 -3.0\n",
      "BeijingPM25Quality         -3.0 -4.0 -5.0\n",
      "BenzeneConcentration       -2.0 -2.0 -5.0\n",
      "Covid3Month                 0.0 -1.0  0.0\n",
      "FloodModeling1              0.0 -1.0 -6.0\n",
      "HouseholdPowerConsumption1  0.0 -2.0 -2.0\n",
      "IEEEPPG                     0.0 -1.0 -1.0\n",
      "Friedman test statistic: 10.785714285714286\n",
      "p-value: 0.004548957728782791\n",
      "There is a significant difference between the classifiers (alpha = 0.05).\n"
     ]
    }
   ],
   "source": [
    "perform_friedman_test(df_perf, 0.05)"
   ]
  },
  {
   "cell_type": "code",
   "execution_count": 39,
   "metadata": {},
   "outputs": [
    {
     "name": "stdout",
     "output_type": "stream",
     "text": [
      "1.0261465\n"
     ]
    },
    {
     "name": "stderr",
     "output_type": "stream",
     "text": [
      "/tmp/ipykernel_14013/4002276892.py:16: OrangeDeprecationWarning: compute_CD is deprecated and will be removed in Orange 3.34.\n",
      "  cd = scoring.compute_CD(avranks, num_ds , alpha='0.1', test=test)\n",
      "/tmp/ipykernel_14013/4002276892.py:18: OrangeDeprecationWarning: graph_ranks is deprecated and will be removed in Orange 3.34.\n",
      "  scoring.graph_ranks(avranks, names, cd, width=10, textspace=2.5, filename='autoMLcomparision.pdf')\n"
     ]
    },
    {
     "data": {
      "text/plain": [
       "1.0261465"
      ]
     },
     "execution_count": 39,
     "metadata": {},
     "output_type": "execute_result"
    },
    {
     "data": {
      "image/png": "[encoded data removed]",
      "text/plain": [
       "<Figure size 1000x145 with 1 Axes>"
      ]
     },
     "metadata": {},
     "output_type": "display_data"
    }
   ],
   "source": [
    "# Create the Cd-Diagram\n",
    "import importlib\n",
    "from Orange.evaluation import scoring\n",
    "_ = importlib.reload( scoring )\n",
    "\n",
    "names = classifiers\n",
    "avranks = average_ranks\n",
    "\n",
    "test = 'nemenyi'\n",
    "#test = 'bonferroni-dunn'\n",
    "\n",
    "# always 8 for me!\n",
    "num_ds = 8\n",
    "#num_ds = 11\n",
    "\n",
    "cd = scoring.compute_CD(avranks, num_ds , alpha='0.1', test=test) \n",
    "print(cd)\n",
    "scoring.graph_ranks(avranks, names, cd, width=10, textspace=2.5, filename='autoMLcomparision.pdf')\n",
    "cd"
   ]
  },
  {
   "cell_type": "code",
   "execution_count": 12,
   "metadata": {},
   "outputs": [
    {
     "name": "stdout",
     "output_type": "stream",
     "text": [
      "...........\n",
      "Classifier Names: ['AutoGluon', 'Rocket', 'XGBoost', 'Random Forest', 'Inception', 'FCN', 'FLAML', 'ResNet', 'FPCR', 'FPCR-Bspline', 'SVR Optimised', 'SVR']\n",
      "Average Ranks: [4.125, 4.875, 4.875, 5.125, 5.5, 6.0, 6.375, 6.75, 7.5625, 7.6875, 8.9375, 10.1875]\n",
      "AutoGluon 4.125\n",
      "Rocket 4.875\n",
      "XGBoost 4.875\n",
      "Random Forest 5.125\n",
      "Inception 5.5\n",
      "FCN 6.0\n",
      "FLAML 6.375\n",
      "ResNet 6.75\n",
      "FPCR 7.5625\n",
      "FPCR-Bspline 7.6875\n",
      "SVR Optimised 8.9375\n",
      "SVR 10.1875\n"
     ]
    },
    {
     "name": "stderr",
     "output_type": "stream",
     "text": [
      "/tmp/ipykernel_12865/3430632323.py:14: DeprecationWarning: DataFrameGroupBy.apply operated on the grouping columns. This behavior is deprecated, and in a future version of pandas the grouping columns will be excluded from the operation. Either pass `include_groups=False` to exclude the groupings or explicitly select the grouping columns after groupby to silence this warning.\n",
      "  ranked_df = melted_df.groupby('dataset_name').apply(rank_accuracies).reset_index(drop=True)\n"
     ]
    }
   ],
   "source": [
    "# Load the values form ods file\n",
    "\n",
    "pd.set_option('display.max_rows', None)\n",
    "# Load the ODS file\n",
    "file_path = '/home/sim/Desktop/TS Extrinsic Regression/AutoML-Results.ods'\n",
    "result_df = pd.read_excel(file_path, engine='odf', sheet_name='result')\n",
    "\n",
    "# Transform the DataFrame to have classifier names as a single column\n",
    "melted_df = result_df.melt(id_vars=['Dataset Name'], var_name='classifier_name', value_name='accuracy')\n",
    "\n",
    "# Rename columns to match the desired output\n",
    "melted_df = melted_df.rename(columns={'Dataset Name': 'dataset_name'})\n",
    "\n",
    "# Drop any rows where accuracy is NaN\n",
    "melted_df = melted_df.dropna(subset=['accuracy'])\n",
    "\n",
    "# Now melted_df contains the required data\n",
    "#print(melted_df)\n",
    "\n",
    "\n",
    "ranked, classifiers, average_ranks, ranked_df = do_ranking(melted_df.copy())\n",
    "\n",
    "ranked_df\n",
    "\n",
    "\n",
    "for i in range(len(classifiers)):\n",
    "    print(classifiers[i], average_ranks[i])\n",
    "\n"
   ]
  },
  {
   "cell_type": "code",
   "execution_count": 5,
   "metadata": {},
   "outputs": [
    {
     "name": "stdout",
     "output_type": "stream",
     "text": [
      "classifier_name              AutoGluon         FCN       FLAML        FPCR  \\\n",
      "dataset_name                                                                 \n",
      "AppliancesEnergy              2.155978    2.865684    2.516904    5.405052   \n",
      "BeijingPM10Quality           108.25219   94.348729  108.381598   99.725946   \n",
      "BeijingPM25Quality           75.187533   59.726847   76.546076   69.379217   \n",
      "BenzeneConcentration          3.874767    4.988295    4.001022   11.088396   \n",
      "Covid3Month                   0.040439     0.07434    0.043481    0.044912   \n",
      "FloodModeling1                 0.01368    0.006709    0.016977    0.018853   \n",
      "HouseholdPowerConsumption1  145.957598  162.244492   169.33506  147.548998   \n",
      "IEEEPPG                      25.574776   34.325728   27.603676   31.381214   \n",
      "\n",
      "classifier_name            FPCR-Bspline   Inception Random Forest      ResNet  \\\n",
      "dataset_name                                                                    \n",
      "AppliancesEnergy               5.405052     4.43533       3.45512    3.065047   \n",
      "BeijingPM10Quality            99.732125   96.749997     94.072344   95.489374   \n",
      "BeijingPM25Quality            69.369892   62.227924     63.301428   64.462746   \n",
      "BenzeneConcentration          11.094974    1.584852      0.855559    4.061261   \n",
      "Covid3Month                    0.044912    0.053769        0.0424    0.095338   \n",
      "FloodModeling1                 0.018853     0.01743      0.015891    0.008868   \n",
      "HouseholdPowerConsumption1     147.5492  153.716402    248.858964  193.207281   \n",
      "IEEEPPG                       31.381212   23.903929      32.10907   33.150985   \n",
      "\n",
      "classifier_name                 Rocket         SVR SVR Optimised     XGBoost  \n",
      "dataset_name                                                                  \n",
      "AppliancesEnergy              2.299031    3.457631      3.454574    3.489024  \n",
      "BeijingPM10Quality          120.057765  110.574226    110.574226   93.138127  \n",
      "BeijingPM25Quality           62.769655   75.734162     71.437076   59.495865  \n",
      "BenzeneConcentration          3.360614    4.790901      4.790901    0.637726  \n",
      "Covid3Month                   0.043878     0.06584       0.06584    0.044682  \n",
      "FloodModeling1                0.002356    0.077897      0.046304    0.015971  \n",
      "HouseholdPowerConsumption1  132.798779  519.155544    152.391358  231.089829  \n",
      "IEEEPPG                      36.515489   36.301933     37.254146   31.487901  \n",
      "Friedman test statistic: 22.347063978965828\n",
      "p-value: 0.021818214873599532\n",
      "There is a significant difference between the classifiers (alpha = 0.05).\n"
     ]
    }
   ],
   "source": [
    "# Friedman on performance: include the ranks in my code!\n",
    "ranked_df.drop('accuracy', axis=1)\n",
    "ranked_df.rename(columns={'accuracy':'rank'})\n",
    "\n",
    "perform_friedman_test(melted_df, 0.05)"
   ]
  },
  {
   "cell_type": "markdown",
   "metadata": {},
   "source": [
    "For RQ1: Nemyi"
   ]
  },
  {
   "cell_type": "code",
   "execution_count": 33,
   "metadata": {},
   "outputs": [
    {
     "name": "stdout",
     "output_type": "stream",
     "text": [
      "5.891477995210709\n"
     ]
    },
    {
     "name": "stderr",
     "output_type": "stream",
     "text": [
      "/tmp/ipykernel_14013/1019123395.py:16: OrangeDeprecationWarning: compute_CD is deprecated and will be removed in Orange 3.34.\n",
      "  cd = scoring.compute_CD(avranks, num_ds , alpha='0.05', test=test)\n",
      "/tmp/ipykernel_14013/1019123395.py:18: OrangeDeprecationWarning: graph_ranks is deprecated and will be removed in Orange 3.34.\n",
      "  scoring.graph_ranks(avranks, names, cd, width=10, textspace=2.5, filename='autoMLcomparision.pdf')\n"
     ]
    },
    {
     "data": {
      "text/plain": [
       "5.891477995210709"
      ]
     },
     "execution_count": 33,
     "metadata": {},
     "output_type": "execute_result"
    },
    {
     "data": {
      "image/png": "[encoded data removed]",
      "text/plain": [
       "<Figure size 1000x245 with 1 Axes>"
      ]
     },
     "metadata": {},
     "output_type": "display_data"
    }
   ],
   "source": [
    "# Create the Cd-Diagram\n",
    "import importlib\n",
    "from Orange.evaluation import scoring\n",
    "_ = importlib.reload( scoring )\n",
    "\n",
    "names = classifiers\n",
    "avranks = average_ranks\n",
    "\n",
    "test = 'nemenyi'\n",
    "#test = 'bonferroni-dunn'\n",
    "\n",
    "# always 8 for me!\n",
    "num_ds = 8\n",
    "#num_ds = 11\n",
    "\n",
    "cd = scoring.compute_CD(avranks, num_ds , alpha='0.05', test=test) \n",
    "print(cd)\n",
    "scoring.graph_ranks(avranks, names, cd, width=10, textspace=2.5, filename='autoMLcomparision.pdf')\n",
    "cd"
   ]
  }
 ],
 "metadata": {
  "kernelspec": {
   "display_name": ".venvOther",
   "language": "python",
   "name": "python3"
  },
  "language_info": {
   "codemirror_mode": {
    "name": "ipython",
    "version": 3
   },
   "file_extension": ".py",
   "mimetype": "text/x-python",
   "name": "python",
   "nbconvert_exporter": "python",
   "pygments_lexer": "ipython3",
   "version": "3.10.12"
  }
 },
 "nbformat": 4,
 "nbformat_minor": 2
}
