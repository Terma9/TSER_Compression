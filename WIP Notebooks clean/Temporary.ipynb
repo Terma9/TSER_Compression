{
 "cells": [
  {
   "cell_type": "code",
   "execution_count": 1,
   "metadata": {},
   "outputs": [
    {
     "data": {
      "text/plain": [
       "'AppliancesEnergy_TEST_None__ts_and_features.csv'"
      ]
     },
     "execution_count": 1,
     "metadata": {},
     "output_type": "execute_result"
    }
   ],
   "source": [
    "'AppliancesEnergy_TRAIN_None__ts_and_features.csv'.replace('TRAIN', 'TEST')"
   ]
  },
  {
   "cell_type": "code",
   "execution_count": null,
   "metadata": {},
   "outputs": [],
   "source": [
    "import numpy as np\n",
    "from numpy.polynomial.chebyshev import chebfit, chebval\n",
    "\n",
    "\n",
    "# Chebyshev Transoform Compression Code -WIP\n",
    "def cpt_compress(signal, dropout_ratio, andDecompress:bool):\n",
    "    \n",
    "    # Later: Try with fitting into Interval -1,1\n",
    "\n",
    "    # Evaluation points\n",
    "    t = np.arange(signal.size)\n",
    "\n",
    "    # Get the coefficients. deg is the longest that is possible. Shouldn't take too long to calculate.\n",
    "    cpt_coeffs = chebfit(t, signal, deg=len(signal)-1)\n",
    "\n",
    "    # Calculate the number of coefficients to zero out\n",
    "    num_coeffs = int((dropout_ratio) * len(cpt_coeffs))\n",
    "    \n",
    "    # Sort the coefficients by value and cut off the smallest ones\n",
    "    sorted_indices = np.argsort(np.abs(cpt_coeffs))\n",
    "    indices_to_zero = sorted_indices[:num_coeffs]\n",
    "\n",
    "    # Zero out selected coefficients\n",
    "    cpt_coeffs[indices_to_zero] = 0\n",
    "\n",
    "    if andDecompress == False:\n",
    "        return cpt_coeffs\n",
    "    else:\n",
    "        decompressed_signal = chebval(t, cpt_coeffs)\n",
    "        return decompressed_signal\n",
    "\n",
    "cpt_compress(np.array(), 0.9, True)"
   ]
  },
  {
   "cell_type": "code",
   "execution_count": null,
   "metadata": {},
   "outputs": [],
   "source": [
    "\n",
    "data_path = \"/home/sim/Desktop/TS Extrinsic Regression/data/AppliancesEnergy_TEST.ts\"\n",
    "dataset_array = load_dataset(data_path)\n",
    "dataset_id = os.path.basename(data_path).split('_')[0]"
   ]
  },
  {
   "cell_type": "code",
   "execution_count": null,
   "metadata": {},
   "outputs": [],
   "source": [
    "\n",
    "\n",
    "a = dataset_array[0,:,0]\n",
    "#b = cpt_compress(a, 0, True)\n",
    "c = cpt_compress(a, 0, True)\n",
    "# Create a figure and axis\n",
    "fig, ax = plt.subplots()\n",
    "\n",
    "# Plot the arrays\n",
    "ax.plot(a, label='Array a')\n",
    "#ax.plot(b, label='Array b')\n",
    "ax.plot(c, label='Array c')\n",
    "\n",
    "# Add a legend\n",
    "ax.legend()\n",
    "\n",
    "# Add labels and title\n",
    "ax.set_xlabel('X axis')\n",
    "ax.set_ylabel('Y axis')\n",
    "ax.set_title('Plot of Array a and Array b')\n",
    "\n",
    "# Show the plot\n",
    "plt.show()"
   ]
  }
 ],
 "metadata": {
  "kernelspec": {
   "display_name": ".venvAutogluon",
   "language": "python",
   "name": "python3"
  },
  "language_info": {
   "codemirror_mode": {
    "name": "ipython",
    "version": 3
   },
   "file_extension": ".py",
   "mimetype": "text/x-python",
   "name": "python",
   "nbconvert_exporter": "python",
   "pygments_lexer": "ipython3",
   "version": "3.10.12"
  }
 },
 "nbformat": 4,
 "nbformat_minor": 2
}
