{
 "cells": [
  {
   "cell_type": "code",
   "execution_count": 1,
   "metadata": {},
   "outputs": [],
   "source": [
    "import pandas as pd\n",
    "import numpy as np\n",
    "\n",
    "\n",
    "from data_loader import load_from_tsfile_to_dataframe\n",
    "from regressor_tools import process_data\n",
    "import mlflow\n",
    "from tsfeatures import tsfeatures"
   ]
  },
  {
   "cell_type": "code",
   "execution_count": null,
   "metadata": {},
   "outputs": [],
   "source": [
    "# DCT or DFT Compression\n",
    "# precise cutting and not with threshold_value\n",
    "\n",
    "#->> both methods should be alright, but need to be field tested!\n",
    "\n",
    "import numpy as np\n",
    "from scipy.fft import dct, idct, fft, ifft\n",
    "\n",
    "def dct_or_dft_compress(signal, dropout_ratio, transform_type='dft'):\n",
    "    if transform_type == 'dct':\n",
    "        # Apply DCT to the signal\n",
    "        signal_transformed = dct(signal, type=2, norm='ortho')\n",
    "        inverse_transform = idct\n",
    "    elif transform_type == 'dft':\n",
    "        # Apply FFT to the signal\n",
    "        signal_transformed = fft(signal)\n",
    "        inverse_transform = ifft\n",
    "    else:\n",
    "        raise ValueError(\"Invalid transform_type. Choose 'dct' or 'dft'.\")\n",
    "    \n",
    "    # Calculate the number of coefficients to keep\n",
    "    num_coeffs = int((1 - dropout_ratio) * len(signal_transformed))\n",
    "    \n",
    "    # Sort the coefficients by magnitude and keep only the top ones\n",
    "    sorted_indices = np.argsort(np.abs(signal_transformed))\n",
    "    kept_indices = sorted_indices[-num_coeffs:]\n",
    "    \n",
    "    # Set the coefficients to zero for the dropped out indices\n",
    "    compressed_transform = np.zeros_like(signal_transformed)\n",
    "    compressed_transform[kept_indices] = signal_transformed[kept_indices]\n",
    "    \n",
    "    # Reconstruct the signal using inverse transform\n",
    "    compressed_signal = inverse_transform(compressed_transform)\n",
    "    \n",
    "    return compressed_signal"
   ]
  }
 ],
 "metadata": {
  "kernelspec": {
   "display_name": ".venvAutogluon",
   "language": "python",
   "name": "python3"
  },
  "language_info": {
   "codemirror_mode": {
    "name": "ipython",
    "version": 3
   },
   "file_extension": ".py",
   "mimetype": "text/x-python",
   "name": "python",
   "nbconvert_exporter": "python",
   "pygments_lexer": "ipython3",
   "version": "3.10.12"
  }
 },
 "nbformat": 4,
 "nbformat_minor": 2
}
