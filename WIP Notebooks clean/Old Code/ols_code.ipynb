{
 "cells": [
  {
   "cell_type": "code",
   "execution_count": null,
   "metadata": {},
   "outputs": [],
   "source": [
    "# Get the overlapping ffeatures\n",
    "dropout_values = [None, 0.5, 0.75, 0.85, 0.9, 0.95, 0.97]\n",
    "log_path = '/home/sim/Desktop/TS Extrinsic Regression/All-Logs/' \n",
    "\n",
    "ds_names = [\n",
    "    'AppliancesEnergy',\n",
    "    'NewsTitleSentiment',\n",
    "    'BenzeneConcentration',\n",
    "    'BeijingPM25Quality',\n",
    "    'IEEEPPG',\n",
    "    'FloodModeling1',\n",
    "    'HouseholdPowerConsumption1',\n",
    "    'Covid3Month'\n",
    "]\n",
    "\n",
    "tqs = ['dct', 'dft', 'dwt']\n",
    "\n",
    "common_features_dict = {}\n",
    "\n",
    "# Iterate over them to go for each value\n",
    "for ds_name in ds_names:\n",
    "    for tq in tqs:\n",
    "        path_to_runs = log_path + f'{ds_name}_Runs/'\n",
    "        common_features = None\n",
    "        \n",
    "        for dval in dropout_values:\n",
    "            if dval is None:\n",
    "                path_to_selectedf = path_to_runs + f'NONE_{ds_name}_20min_Flaml_f/selected_features.txt'\n",
    "            else:\n",
    "                path_to_selectedf = path_to_runs + f'{dval}_{tq}_{ds_name}_20min_Flaml_f/selected_features.txt'\n",
    "            \n",
    "            try:\n",
    "                with open(path_to_selectedf, 'r') as file:\n",
    "                    lines = set(file.read().splitlines())  # Read and store lines in a set\n",
    "\n",
    "                    if common_features is None:\n",
    "                        common_features = lines\n",
    "                    else:\n",
    "                        common_features &= lines  # Intersection of sets to find common lines\n",
    "                        \n",
    "            except FileNotFoundError:\n",
    "                print(f\"File {path_to_selectedf} not found, skipping.\")\n",
    "                continue\n",
    "        \n",
    "        common_features_dict[(ds_name, tq)] = common_features\n",
    "\n",
    "# Output the results\n",
    "for (ds_name, tq), common_features in common_features_dict.items():\n",
    "    if common_features is not None:\n",
    "        print(f\"Number of overlapping feature for {ds_name}: {tq} {len(common_features)}\")"
   ]
  }
 ],
 "metadata": {
  "language_info": {
   "name": "python"
  }
 },
 "nbformat": 4,
 "nbformat_minor": 2
}
