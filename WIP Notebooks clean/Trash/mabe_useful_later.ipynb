{
 "cells": [
  {
   "cell_type": "code",
   "execution_count": null,
   "metadata": {},
   "outputs": [],
   "source": [
    "# DFT Compression with hard cut, but doesn't take into account the Hermitian symmetry.\n",
    "# Thus returns sometimes significant part of imaginary numbers.\n",
    "# Internal logic is alright and already checked.\n",
    "\n",
    "import numpy as np\n",
    "from scipy.fft import dct, idct, fft, ifft\n",
    "\n",
    "def dft_compress(signal, dropout_ratio):\n",
    "    #print(\"signal: \", signal)\n",
    "    # Apply DFT to the signal\n",
    "    signal_transformed = fft(signal, norm='ortho')\n",
    "    #print(\"transformed: \", signal_transformed)\n",
    "\n",
    "    # Calculate the number of coefficients to keep\n",
    "    num_coeffs = int((1 - dropout_ratio) * len(signal_transformed))\n",
    "    #print(num_coeffs)\n",
    "\n",
    "    # Sort the coefficients by magnitude and keep only the top ones\n",
    "    sorted_indices = np.argsort(np.abs(signal_transformed))\n",
    "    kept_indices = sorted_indices[-num_coeffs:]\n",
    "\n",
    "    # Set the coefficients to zero for the dropped out indices\n",
    "    compressed_transform = np.zeros_like(signal_transformed)\n",
    "    compressed_transform[kept_indices] = signal_transformed[kept_indices]\n",
    "    #print(compressed_transform)\n",
    "    # Reconstruct the signal using inverse DFT\n",
    "    compressed_signal = ifft(compressed_transform, norm='ortho')\n",
    "    #print(\"compressed\",compressed_signal)\n",
    "\n",
    "    return compressed_signal"
   ]
  }
 ],
 "metadata": {
  "language_info": {
   "name": "python"
  }
 },
 "nbformat": 4,
 "nbformat_minor": 2
}
