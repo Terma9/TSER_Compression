{
 "cells": [
  {
   "cell_type": "code",
   "execution_count": 25,
   "metadata": {},
   "outputs": [
    {
     "data": {
      "text/plain": [
       "' #Plot the learning curve\\nfrom flaml.automl.data import get_output_from_log\\n\\ntime_history, best_valid_loss_history, valid_loss_history, config_history, metric_history =  get_output_from_log(filename=\\'flaml_log_basic.log\\', time_budget=60)\\n\\n\\nimport matplotlib.pyplot as plt\\nimport numpy\\n\\nplt.title(\"Learning Curve\")\\nplt.xlabel(\"Wall Clock Time (s)\")\\nplt.ylabel(\"Validation Loss (RSME)\")\\nplt.step(time_history,np.array(best_valid_loss_history), where=\"post\")\\nplt.show() '"
      ]
     },
     "execution_count": 25,
     "metadata": {},
     "output_type": "execute_result"
    }
   ],
   "source": [
    "\"\"\" #Plot the learning curve\n",
    "from flaml.automl.data import get_output_from_log\n",
    "\n",
    "time_history, best_valid_loss_history, valid_loss_history, config_history, metric_history =  get_output_from_log(filename='flaml_log_basic.log', time_budget=60)\n",
    "\n",
    "\n",
    "import matplotlib.pyplot as plt\n",
    "import numpy\n",
    "\n",
    "plt.title(\"Learning Curve\")\n",
    "plt.xlabel(\"Wall Clock Time (s)\")\n",
    "plt.ylabel(\"Validation Loss (RSME)\")\n",
    "plt.step(time_history,np.array(best_valid_loss_history), where=\"post\")\n",
    "plt.show() \"\"\""
   ]
  },
  {
   "cell_type": "code",
   "execution_count": 26,
   "metadata": {},
   "outputs": [],
   "source": [
    "import pandas as pd\n",
    "import numpy as np\n",
    "from utils.personal_utils import *\n",
    "from create_prepared_data_tsfresh import *"
   ]
  },
  {
   "cell_type": "code",
   "execution_count": 27,
   "metadata": {},
   "outputs": [],
   "source": [
    "all_ds = {\n",
    "    'AppliancesEnergy':   '/home/sim/Desktop/TS Extrinsic Regression/data/AppliancesEnergy_TEST.ts',\n",
    "    'NewsTitleSentiment': '/home/sim/Desktop/TS Extrinsic Regression/data/NewsTitleSentiment_TRAIN.ts',\n",
    "    'BenzeneConcentration':'/home/sim/Desktop/TS Extrinsic Regression/data/BenzeneConcentration_TRAIN.ts',\n",
    "    'BeijingPM25Quality': '/home/sim/Desktop/TS Extrinsic Regression/data/BeijingPM25Quality_TRAIN.ts',\n",
    "\n",
    "    'IEEEPPG':            '/home/sim/Desktop/TS Extrinsic Regression/data/IEEEPPG_TRAIN.ts',\n",
    "    'FloodModeling1':     '/home/sim/Desktop/TS Extrinsic Regression/data/FloodModeling1_TRAIN.ts',\n",
    "    'HouseholdPowerConsumption1': '/home/sim/Desktop/TS Extrinsic Regression/data/HouseholdPowerConsumption1_TRAIN.ts',\n",
    "    'Covid3Month':              '/home/sim/Desktop/TS Extrinsic Regression/data/Covid3Month_TRAIN.ts' \n",
    "}"
   ]
  },
  {
   "cell_type": "code",
   "execution_count": 1,
   "metadata": {},
   "outputs": [],
   "source": [
    "import pandas as pd\n",
    "import numpy as np"
   ]
  },
  {
   "cell_type": "code",
   "execution_count": 9,
   "metadata": {},
   "outputs": [
    {
     "name": "stdout",
     "output_type": "stream",
     "text": [
      "0     17.134245\n",
      "1     15.838378\n",
      "2     10.849128\n",
      "3     11.105565\n",
      "4     15.165165\n",
      "5     12.991673\n",
      "6     18.859991\n",
      "7     12.126429\n",
      "8     15.322295\n",
      "9     11.490843\n",
      "10    17.471922\n",
      "11    13.480631\n",
      "12    12.298971\n",
      "13    13.195881\n",
      "14    14.009985\n",
      "15    16.923445\n",
      "16    12.592018\n",
      "17    15.375562\n",
      "18    10.259102\n",
      "19    11.992506\n",
      "20    11.211722\n",
      "21    15.008444\n",
      "22    11.370363\n",
      "23    14.259556\n",
      "24    16.449863\n",
      "25    11.703172\n",
      "26    14.483973\n",
      "27    18.610455\n",
      "28    12.913260\n",
      "29    12.395144\n",
      "30    17.138468\n",
      "31    13.842776\n",
      "32    13.312163\n",
      "33    16.537073\n",
      "34    11.228756\n",
      "35    16.352789\n",
      "36    11.060820\n",
      "37    14.962638\n",
      "38    18.436823\n",
      "39    11.440249\n",
      "40    12.503656\n",
      "41    11.097223\n",
      "Name: target, dtype: float32\n",
      "[17.134245  15.838378  10.849128  11.105565  15.165165  12.9916725\n",
      " 18.859991  12.126429  15.322295  11.490843  17.471922  13.480631\n",
      " 12.298971  13.195881  14.009985  16.923445  12.592018  15.375562\n",
      " 10.259102  11.992506  11.211722  15.008444  11.370363  14.259556\n",
      " 16.449863  11.703172  14.483973  18.610455  12.91326   12.395144\n",
      " 17.138468  13.842776  13.312163  16.537073  11.228756  16.352789\n",
      " 11.06082   14.962638  18.436823  11.440249  12.503656  11.097223 ]\n"
     ]
    },
    {
     "ename": "NameError",
     "evalue": "name 'pre' is not defined",
     "output_type": "error",
     "traceback": [
      "\u001b[0;31m---------------------------------------------------------------------------\u001b[0m",
      "\u001b[0;31mNameError\u001b[0m                                 Traceback (most recent call last)",
      "Cell \u001b[0;32mIn[9], line 15\u001b[0m\n\u001b[1;32m     13\u001b[0m prediction_true \u001b[38;5;241m=\u001b[39m np\u001b[38;5;241m.\u001b[39mload(\u001b[38;5;124m'\u001b[39m\u001b[38;5;124m/home/sim/Desktop/All-Logs_agluon/Test/test_run/predictions.npy\u001b[39m\u001b[38;5;124m'\u001b[39m)\n\u001b[1;32m     14\u001b[0m \u001b[38;5;28mprint\u001b[39m(prediction_true)\n\u001b[0;32m---> 15\u001b[0m \u001b[38;5;28mprint\u001b[39m(\u001b[43mpre\u001b[49m)\n",
      "\u001b[0;31mNameError\u001b[0m: name 'pre' is not defined"
     ]
    }
   ],
   "source": [
    "from autogluon.tabular import TabularPredictor\n",
    "\n",
    "# Specify the path to the saved model directory\n",
    "model_path = '/home/sim/Desktop/All-Logs_agluon/Test/test_run'\n",
    "\n",
    "# Load the model\n",
    "predictor = TabularPredictor.load(model_path)\n",
    "\n",
    "ds_name = 'AppliancesEnergy'\n",
    "features_path = '/home/sim/Desktop/TS Extrinsic Regression/features_dfs/' + ds_name + '/'\n",
    "test_features = pd.read_parquet(features_path + f'NONE_NONE_{ds_name}_features_TEST')\n",
    "print(predictor.predict(test_features))\n",
    "prediction_true = np.load('/home/sim/Desktop/All-Logs_agluon/Test/test_run/predictions.npy')\n",
    "print(prediction_true)\n",
    "\n"
   ]
  },
  {
   "cell_type": "code",
   "execution_count": null,
   "metadata": {},
   "outputs": [],
   "source": [
    "# Test if saved .pkl is working!\n",
    "import pickle\n",
    "with open('/home/sim/Desktop/TS Extrinsic Regression/0.5_dct_AppliancesEnergy_20min_Flaml_f/flaml_model.pkl', 'rb') as model_file:\n",
    "    flaml_model = pickle.load(model_file)\n",
    "\n",
    "\n",
    "# Load the predictions\n",
    "prediction_true = np.load('/home/sim/Desktop/TS Extrinsic Regression/0.5_dct_AppliancesEnergy_20min_Flaml_f/predictions.npy')\n",
    "\n",
    "tsandf, features = load_and_prepare_everything(all_ds['AppliancesEnergy'], 'dct', 0.5)\n",
    "\n",
    "\n",
    "# Only \n",
    "file_path = '/home/sim/Desktop/TS Extrinsic Regression/0.5_dct_AppliancesEnergy_20min_Flaml_f/selected_features.txt'\n",
    "with open(file_path, 'r') as file:\n",
    "    lines = file.readlines()\n",
    "\n",
    "lines = [line.strip() for line in lines]\n",
    "\n",
    "selected_features = features[lines]\n",
    "\n",
    "prediction_pkl = flaml_model.predict(selected_features)\n",
    "\n",
    "print(prediction_true)\n",
    "print(prediction_pkl)\n",
    "print(np.array_equal(prediction_pkl, prediction_true))"
   ]
  },
  {
   "cell_type": "code",
   "execution_count": 42,
   "metadata": {},
   "outputs": [
    {
     "name": "stderr",
     "output_type": "stream",
     "text": [
      "66it [00:01, 60.51it/s] \n",
      "100%|██████████| 42/42 [00:00<00:00, 496.05it/s]\n",
      "Feature Extraction: 100%|██████████| 30/30 [00:10<00:00,  2.98it/s]\n"
     ]
    },
    {
     "name": "stdout",
     "output_type": "stream",
     "text": [
      "[17.40866404 16.08758159 11.58181119 12.63613691 15.49786128 12.50503084\n",
      " 18.73428551 14.34195033 15.65821943 13.20204821 18.73780325 14.5782942\n",
      " 12.93648353 11.61012514 10.86518501 18.46632804 14.97628939 13.58770037\n",
      "  9.54824379 11.66188595 11.87137519 18.14336381 12.11094599 11.36045666\n",
      " 15.58979133 12.94519136 13.9598636  16.37746201 11.98862467 14.76332943\n",
      " 17.75137696 13.47867751 11.25503249 14.17218026 10.45279926 17.51902999\n",
      " 10.08038137 11.42773212 17.72179858 11.54069719 11.92035155 12.86367304]\n",
      "[17.40866404 16.08758159 11.58181119 12.63613691 15.49786128 12.50503084\n",
      " 18.73428551 14.34195033 15.65821943 13.20204821 18.73780325 14.5782942\n",
      " 12.93648353 11.61012514 10.86518501 18.46632804 14.97628939 13.58770037\n",
      "  9.54824379 11.66188595 11.87137519 18.14336381 12.11094599 11.36045666\n",
      " 15.58979133 12.94519136 13.9598636  16.37746201 11.98862467 14.76332943\n",
      " 17.75137696 13.47867751 11.25503249 14.17218026 10.45279926 17.51902999\n",
      " 10.08038137 11.42773212 17.72179858 11.54069719 11.92035155 12.86367304]\n",
      "True\n"
     ]
    }
   ],
   "source": [
    "# Test if saved .pkl is working!\n",
    "import pickle\n",
    "with open('/home/sim/Desktop/TS Extrinsic Regression/0.5_dct_AppliancesEnergy_20min_Flaml_f/flaml_model.pkl', 'rb') as model_file:\n",
    "    flaml_model = pickle.load(model_file)\n",
    "\n",
    "\n",
    "# Load the predictions\n",
    "prediction_true = np.load('/home/sim/Desktop/TS Extrinsic Regression/0.5_dct_AppliancesEnergy_20min_Flaml_f/predictions.npy')\n",
    "\n",
    "tsandf, features = load_and_prepare_everything(all_ds['AppliancesEnergy'], 'dct', 0.5)\n",
    "\n",
    "\n",
    "# Only \n",
    "file_path = '/home/sim/Desktop/TS Extrinsic Regression/0.5_dct_AppliancesEnergy_20min_Flaml_f/selected_features.txt'\n",
    "with open(file_path, 'r') as file:\n",
    "    lines = file.readlines()\n",
    "\n",
    "lines = [line.strip() for line in lines]\n",
    "\n",
    "selected_features = features[lines]\n",
    "\n",
    "prediction_pkl = flaml_model.predict(selected_features)\n",
    "\n",
    "print(prediction_true)\n",
    "print(prediction_pkl)\n",
    "print(np.array_equal(prediction_pkl, prediction_true))\n"
   ]
  },
  {
   "cell_type": "code",
   "execution_count": 34,
   "metadata": {},
   "outputs": [
    {
     "name": "stderr",
     "output_type": "stream",
     "text": [
      "119it [00:02, 47.42it/s]\n",
      "100%|██████████| 95/95 [00:00<00:00, 500.36it/s]\n",
      "119it [00:02, 46.02it/s]\n",
      "100%|██████████| 95/95 [00:00<00:00, 644.70it/s]\n"
     ]
    }
   ],
   "source": [
    "# Load single ts\n",
    "data_path = '/home/sim/Desktop/TS Extrinsic Regression/data/AppliancesEnergy_TRAIN.ts'\n",
    "ts_1 = load_single_ts(data_path, 5, 3)\n",
    "matrix_appliances = load_datapoint(data_path, 0)"
   ]
  },
  {
   "cell_type": "code",
   "execution_count": 35,
   "metadata": {},
   "outputs": [
    {
     "name": "stdout",
     "output_type": "stream",
     "text": [
      "float64\n",
      "float32\n",
      "float32\n",
      "float32\n"
     ]
    }
   ],
   "source": [
    "# Quantization Testing: Test the returnd dtyps of the transforms\n",
    "\n",
    "import pandas as pd\n",
    "import numpy as np\n",
    "\n",
    "from scipy.fft import dct, idct, fft, ifft\n",
    "import pywt\n",
    "\n",
    "\n",
    "print(ts_1.dtype)\n",
    "ts_1 = ts_1.astype(np.float32)\n",
    "\n",
    "print(dct(ts_1, norm='ortho',type=2).dtype)\n",
    "print(fft(ts_1, norm='ortho').real.dtype)\n",
    "print(pywt.dwt(ts_1, 'db4')[1].dtype)\n"
   ]
  },
  {
   "cell_type": "code",
   "execution_count": 36,
   "metadata": {},
   "outputs": [
    {
     "name": "stderr",
     "output_type": "stream",
     "text": [
      "119it [00:02, 46.34it/s]\n",
      "100%|██████████| 95/95 [00:00<00:00, 594.91it/s]\n",
      "119it [00:02, 47.61it/s]\n",
      "100%|██████████| 95/95 [00:00<00:00, 475.54it/s]\n"
     ]
    }
   ],
   "source": [
    "data_path2 = '/home/sim/Desktop/TS Extrinsic Regression/data/AppliancesEnergy_TRAIN.ts'\n",
    "matrix_ieee = load_datapoint(data_path2, 90)\n",
    "ts_ie = load_single_ts(data_path2, 5, 3)"
   ]
  },
  {
   "cell_type": "code",
   "execution_count": 37,
   "metadata": {},
   "outputs": [
    {
     "name": "stdout",
     "output_type": "stream",
     "text": [
      "[-1.84874111 -1.79521367 -1.72830437 -1.62392587 -1.47806359 -1.36833234\n",
      " -1.27332114 -1.27332114 -1.22113189 -1.19704454 -1.11675338 -1.06054957\n",
      " -1.00568394 -0.89862906 -0.76882502 -0.68585749 -0.59486084 -0.52360244\n",
      " -0.44364583 -0.33792913 -0.25763797 -0.19340505 -0.16396496 -0.08501198\n",
      " -0.00472082  0.05148299  0.05148299  0.13177415  0.10233406  0.08761401\n",
      "  0.08761401  0.07557034  0.05148299  0.08761401  0.1170541   0.13177415\n",
      "  0.13177415  0.15184694  0.17191973  0.19600708  0.25221089  0.27629823\n",
      "  0.26425456  0.28834191  0.33250205  0.35926577  0.3846913   0.40877865\n",
      "  0.43821874  0.43821874  0.46498246  0.48906981  0.53322994  0.55999366\n",
      "  0.57337552  0.57337552  0.57337552  0.62422659  0.65366668  0.65366668\n",
      "  0.67775403  0.6897977   0.7192378   0.7192378   0.7192378   0.7473397\n",
      "  0.77410342  0.81023444  0.83967454  0.8905256   0.86643825  0.85439458\n",
      "  0.85439458  0.85439458  0.85439458  0.83967454  0.81023444  0.81023444\n",
      "  0.81023444  0.7861471   0.76072156  0.73395784  0.7861471   0.81023444\n",
      "  0.91862751  1.05244611  1.11935541  1.17555922  1.17555922  1.19964657\n",
      "  1.21169024  1.21169024  1.19964657  1.17555922  1.18760289  1.26287585\n",
      "  1.25585038  1.24113033  1.21169024  1.29599596]\n"
     ]
    },
    {
     "ename": "TypeError",
     "evalue": "dwt_compress() missing 4 required positional arguments: 'andDecompress', 'level', 'wavelet', and 'quantization_level'",
     "output_type": "error",
     "traceback": [
      "\u001b[0;31m---------------------------------------------------------------------------\u001b[0m",
      "\u001b[0;31mTypeError\u001b[0m                                 Traceback (most recent call last)",
      "Cell \u001b[0;32mIn[37], line 4\u001b[0m\n\u001b[1;32m      2\u001b[0m dr \u001b[38;5;241m=\u001b[39m \u001b[38;5;241m0.4\u001b[39m\n\u001b[1;32m      3\u001b[0m \u001b[38;5;28mprint\u001b[39m(ts_ie[:\u001b[38;5;241m100\u001b[39m])\n\u001b[0;32m----> 4\u001b[0m \u001b[38;5;28mprint\u001b[39m(\u001b[43mdwt_compress\u001b[49m\u001b[43m(\u001b[49m\u001b[43mts_ie\u001b[49m\u001b[43m[\u001b[49m\u001b[38;5;241;43m0\u001b[39;49m\u001b[43m:\u001b[49m\u001b[38;5;241;43m100\u001b[39;49m\u001b[43m]\u001b[49m\u001b[43m,\u001b[49m\u001b[43m \u001b[49m\u001b[43mdr\u001b[49m\u001b[43m \u001b[49m\u001b[43m)\u001b[49m)\n\u001b[1;32m      5\u001b[0m \u001b[38;5;66;03m#print(compute_rmse(ts_ie, dwt_compress(ts_ie, dr )))\u001b[39;00m\n",
      "\u001b[0;31mTypeError\u001b[0m: dwt_compress() missing 4 required positional arguments: 'andDecompress', 'level', 'wavelet', and 'quantization_level'"
     ]
    }
   ],
   "source": [
    "#Test general shape of compression\n",
    "dr = 0.4\n",
    "print(ts_ie[:100])\n",
    "print(dwt_compress(ts_ie[0:100], dr ))\n",
    "#print(compute_rmse(ts_ie, dwt_compress(ts_ie, dr )))"
   ]
  },
  {
   "cell_type": "code",
   "execution_count": null,
   "metadata": {},
   "outputs": [
    {
     "data": {
      "text/plain": [
       "(0.9745457315927168,\n",
       " array([2.51989208, 2.29014343, 0.01868709, 0.01885416, 0.02515189]))"
      ]
     },
     "execution_count": 36,
     "metadata": {},
     "output_type": "execute_result"
    }
   ],
   "source": [
    "# Compute dft on every column of matrix\n",
    "matrix = matrix_ieee\n",
    "\n",
    "matrix_compressed = np.zeros(matrix.shape)\n",
    "for i in range(matrix.shape[1]):\n",
    "    matrix_compressed[:,i] = dwt_compress(matrix[:,i], 0.65)\n",
    "\n",
    "\n",
    "compute_rmse_of_datapoint(matrix, matrix_compressed)\n",
    "\n",
    "#(1.4435339091230222,\n",
    "#array([3.71996501, 3.38425485, 0.03060634, 0.0288563 , 0.05398704]))"
   ]
  },
  {
   "cell_type": "markdown",
   "metadata": {},
   "source": [
    "Testing calculateCompRatio"
   ]
  },
  {
   "cell_type": "code",
   "execution_count": null,
   "metadata": {},
   "outputs": [],
   "source": [
    "# Testing calculateCompRatio\n",
    "import gzip\n",
    "\n",
    "def calculateCompRatio(dataset_array, array_flatdim_comp):\n",
    "\n",
    "    # Calculate the number of bytes in the raw dataset array\n",
    "    num_bytes_raw = dataset_array.nbytes\n",
    "    print(\"Number of bytes in the raw dataset array:\", num_bytes_raw)\n",
    "    print(\"Number of the bytes in array_comp before gzip\", array_flatdim_comp.nbytes)\n",
    "    # Flatten the compressed array in column-major order. # Tested it, not need to put .copy() after.\n",
    "    array_flatdim_1d = array_flatdim_comp.reshape(-1, order='F')\n",
    "    print(\"Array flattened\", array_flatdim_1d)\n",
    "\n",
    "    # Convert the flattened array to a byte string\n",
    "    compressed_data_bytestring = array_flatdim_1d.tobytes()\n",
    "\n",
    "    print(\"Size of raw_data after gzip\", len(gzip.compress(dataset_array.tobytes())))\n",
    "\n",
    "    # Compress the byte string using gzip compression\n",
    "    compressed_data_gzipd = gzip.compress(compressed_data_bytestring, compresslevel=9)\n",
    "    print(\"Size of the compressed data after gzip:\", len(compressed_data_gzipd))\n",
    "\n",
    "\n",
    "\n",
    "    # Calculate and return the compression ratio\n",
    "    compression_ratio = num_bytes_raw / len(compressed_data_gzipd)\n",
    "    print(\"Compression ratio:\", compression_ratio)\n",
    "    return compression_ratio\n"
   ]
  },
  {
   "cell_type": "code",
   "execution_count": null,
   "metadata": {},
   "outputs": [],
   "source": [
    "# Try with easy data. Then try with real time-series.\n",
    "\n",
    "num_dp = 3\n",
    "len_ts = 9\n",
    "num_dim = 4\n",
    "\n",
    "array = np.arange(num_dp * len_ts * num_dim)\n",
    "array_comp = np.arange(num_dp * len_ts * num_dim)\n",
    "\n",
    "\n",
    "\n",
    "array_comp = array_comp.reshape(num_dp * len_ts, num_dim)\n",
    "\n",
    "array_comp[[1,2,3,5,6,7,9,12,13,14,15,16,15,16,17,20]] = 0\n",
    "\n",
    "\n",
    "print(array_comp)\n",
    "calculateCompRatio(array, array_comp)\n",
    "\n",
    "\n",
    "# Conclusions:\n",
    "# Values look good! Show that also with zeroing out we reached a little more compression!"
   ]
  }
 ],
 "metadata": {
  "kernelspec": {
   "display_name": ".venvAutogluon",
   "language": "python",
   "name": "python3"
  },
  "language_info": {
   "codemirror_mode": {
    "name": "ipython",
    "version": 3
   },
   "file_extension": ".py",
   "mimetype": "text/x-python",
   "name": "python",
   "nbconvert_exporter": "python",
   "pygments_lexer": "ipython3",
   "version": "3.10.12"
  }
 },
 "nbformat": 4,
 "nbformat_minor": 2
}
