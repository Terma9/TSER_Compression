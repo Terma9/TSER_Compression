{
 "cells": [
  {
   "cell_type": "code",
   "execution_count": 1,
   "metadata": {},
   "outputs": [],
   "source": [
    "import pandas as pd\n",
    "import numpy as np\n",
    "from utils.personal_utils import *"
   ]
  },
  {
   "cell_type": "code",
   "execution_count": 2,
   "metadata": {},
   "outputs": [
    {
     "name": "stderr",
     "output_type": "stream",
     "text": [
      "119it [00:03, 32.61it/s]\n",
      "100%|██████████| 95/95 [00:00<00:00, 563.19it/s]\n",
      "119it [00:03, 31.99it/s]\n",
      "100%|██████████| 95/95 [00:00<00:00, 574.25it/s]\n"
     ]
    }
   ],
   "source": [
    "# Load single ts\n",
    "data_path = '/home/sim/Desktop/TS Extrinsic Regression/data/AppliancesEnergy_TRAIN.ts'\n",
    "ts_1 = load_single_ts(data_path, 5, 3)\n",
    "matrix_appliances = load_datapoint(data_path, 0)"
   ]
  },
  {
   "cell_type": "code",
   "execution_count": 3,
   "metadata": {},
   "outputs": [
    {
     "name": "stdout",
     "output_type": "stream",
     "text": [
      "float64\n",
      "float32\n",
      "float32\n",
      "float32\n"
     ]
    }
   ],
   "source": [
    "# Quantization Testing: Test the returnd dtyps of the transforms\n",
    "\n",
    "import pandas as pd\n",
    "import numpy as np\n",
    "\n",
    "from scipy.fft import dct, idct, fft, ifft\n",
    "import pywt\n",
    "\n",
    "\n",
    "print(ts_1.dtype)\n",
    "ts_1 = ts_1.astype(np.float32)\n",
    "\n",
    "print(dct(ts_1, norm='ortho',type=2).dtype)\n",
    "print(fft(ts_1, norm='ortho').real.dtype)\n",
    "print(pywt.dwt(ts_1, 'db4')[1].dtype)\n"
   ]
  },
  {
   "cell_type": "code",
   "execution_count": 5,
   "metadata": {},
   "outputs": [
    {
     "name": "stderr",
     "output_type": "stream",
     "text": [
      "0it [00:00, ?it/s]"
     ]
    },
    {
     "name": "stderr",
     "output_type": "stream",
     "text": [
      "119it [00:03, 30.24it/s]\n",
      "100%|██████████| 95/95 [00:00<00:00, 538.52it/s]\n",
      "119it [00:03, 33.05it/s]\n",
      "100%|██████████| 95/95 [00:00<00:00, 849.59it/s]\n"
     ]
    }
   ],
   "source": [
    "data_path2 = '/home/sim/Desktop/TS Extrinsic Regression/data/AppliancesEnergy_TRAIN.ts'\n",
    "matrix_ieee = load_datapoint(data_path2, 90)\n",
    "ts_ie = load_single_ts(data_path2, 5, 3)"
   ]
  },
  {
   "cell_type": "code",
   "execution_count": 6,
   "metadata": {},
   "outputs": [
    {
     "name": "stdout",
     "output_type": "stream",
     "text": [
      "[39.96666667 40.1        40.26666667 40.52666667 40.89       41.16333333\n",
      " 41.4        41.4        41.53       41.59       41.79       41.93\n",
      " 42.06666667 42.33333333 42.65666667 42.86333333 43.09       43.2675\n",
      " 43.46666667 43.73       43.93       44.09       44.16333333 44.36\n",
      " 44.56       44.7        44.7        44.9        44.82666667 44.79\n",
      " 44.79       44.76       44.7        44.79       44.86333333 44.9\n",
      " 44.9        44.95       45.         45.06       45.2        45.26\n",
      " 45.23       45.29       45.4        45.46666667 45.53       45.59\n",
      " 45.66333333 45.66333333 45.73       45.79       45.9        45.96666667\n",
      " 46.         46.         46.         46.12666667 46.2        46.2\n",
      " 46.26       46.29       46.36333333 46.36333333 46.36333333 46.43333333\n",
      " 46.5        46.59       46.66333333 46.79       46.73       46.7\n",
      " 46.7        46.7        46.7        46.66333333 46.59       46.59\n",
      " 46.59       46.53       46.46666667 46.4        46.53       46.59\n",
      " 46.86       47.19333333 47.36       47.5        47.5        47.56\n",
      " 47.59       47.59       47.56       47.5        47.53       47.7175\n",
      " 47.7        47.66333333 47.59       47.8       ]\n"
     ]
    },
    {
     "ename": "NameError",
     "evalue": "name 'dwt_compress' is not defined",
     "output_type": "error",
     "traceback": [
      "\u001b[0;31m---------------------------------------------------------------------------\u001b[0m",
      "\u001b[0;31mNameError\u001b[0m                                 Traceback (most recent call last)",
      "Cell \u001b[0;32mIn[6], line 4\u001b[0m\n\u001b[1;32m      2\u001b[0m dr \u001b[38;5;241m=\u001b[39m \u001b[38;5;241m0.4\u001b[39m\n\u001b[1;32m      3\u001b[0m \u001b[38;5;28mprint\u001b[39m(ts_ie[:\u001b[38;5;241m100\u001b[39m])\n\u001b[0;32m----> 4\u001b[0m \u001b[38;5;28mprint\u001b[39m(\u001b[43mdwt_compress\u001b[49m(ts_ie[\u001b[38;5;241m0\u001b[39m:\u001b[38;5;241m100\u001b[39m], dr ))\n\u001b[1;32m      5\u001b[0m \u001b[38;5;66;03m#print(compute_rmse(ts_ie, dwt_compress(ts_ie, dr )))\u001b[39;00m\n",
      "\u001b[0;31mNameError\u001b[0m: name 'dwt_compress' is not defined"
     ]
    }
   ],
   "source": [
    "#Test general shape of compression\n",
    "dr = 0.4\n",
    "print(ts_ie[:100])\n",
    "print(dwt_compress(ts_ie[0:100], dr ))\n",
    "#print(compute_rmse(ts_ie, dwt_compress(ts_ie, dr )))"
   ]
  },
  {
   "cell_type": "code",
   "execution_count": 36,
   "metadata": {},
   "outputs": [
    {
     "data": {
      "text/plain": [
       "(0.9745457315927168,\n",
       " array([2.51989208, 2.29014343, 0.01868709, 0.01885416, 0.02515189]))"
      ]
     },
     "execution_count": 36,
     "metadata": {},
     "output_type": "execute_result"
    }
   ],
   "source": [
    "# Compute dft on every column of matrix\n",
    "matrix = matrix_ieee\n",
    "\n",
    "matrix_compressed = np.zeros(matrix.shape)\n",
    "for i in range(matrix.shape[1]):\n",
    "    matrix_compressed[:,i] = dwt_compress(matrix[:,i], 0.65)\n",
    "\n",
    "\n",
    "compute_rmse_of_datapoint(matrix, matrix_compressed)\n",
    "\n",
    "#(1.4435339091230222,\n",
    "#array([3.71996501, 3.38425485, 0.03060634, 0.0288563 , 0.05398704]))"
   ]
  },
  {
   "cell_type": "markdown",
   "metadata": {},
   "source": [
    "Testing calculateCompRatio"
   ]
  },
  {
   "cell_type": "code",
   "execution_count": null,
   "metadata": {},
   "outputs": [],
   "source": [
    "# Testing calculateCompRatio\n",
    "import gzip\n",
    "\n",
    "def calculateCompRatio(dataset_array, array_flatdim_comp):\n",
    "\n",
    "    # Calculate the number of bytes in the raw dataset array\n",
    "    num_bytes_raw = dataset_array.nbytes\n",
    "    print(\"Number of bytes in the raw dataset array:\", num_bytes_raw)\n",
    "    print(\"Number of the bytes in array_comp before gzip\", array_flatdim_comp.nbytes)\n",
    "    # Flatten the compressed array in column-major order. # Tested it, not need to put .copy() after.\n",
    "    array_flatdim_1d = array_flatdim_comp.reshape(-1, order='F')\n",
    "    print(\"Array flattened\", array_flatdim_1d)\n",
    "\n",
    "    # Convert the flattened array to a byte string\n",
    "    compressed_data_bytestring = array_flatdim_1d.tobytes()\n",
    "\n",
    "    print(\"Size of raw_data after gzip\", len(gzip.compress(dataset_array.tobytes())))\n",
    "\n",
    "    # Compress the byte string using gzip compression\n",
    "    compressed_data_gzipd = gzip.compress(compressed_data_bytestring, compresslevel=9)\n",
    "    print(\"Size of the compressed data after gzip:\", len(compressed_data_gzipd))\n",
    "\n",
    "\n",
    "\n",
    "    # Calculate and return the compression ratio\n",
    "    compression_ratio = num_bytes_raw / len(compressed_data_gzipd)\n",
    "    print(\"Compression ratio:\", compression_ratio)\n",
    "    return compression_ratio\n"
   ]
  },
  {
   "cell_type": "code",
   "execution_count": null,
   "metadata": {},
   "outputs": [],
   "source": [
    "# Try with easy data. Then try with real time-series.\n",
    "\n",
    "num_dp = 3\n",
    "len_ts = 9\n",
    "num_dim = 4\n",
    "\n",
    "array = np.arange(num_dp * len_ts * num_dim)\n",
    "array_comp = np.arange(num_dp * len_ts * num_dim)\n",
    "\n",
    "\n",
    "\n",
    "array_comp = array_comp.reshape(num_dp * len_ts, num_dim)\n",
    "\n",
    "array_comp[[1,2,3,5,6,7,9,12,13,14,15,16,15,16,17,20]] = 0\n",
    "\n",
    "\n",
    "print(array_comp)\n",
    "calculateCompRatio(array, array_comp)\n",
    "\n",
    "\n",
    "# Conclusions:\n",
    "# Values look good! Show that also with zeroing out we reached a little more compression!"
   ]
  }
 ],
 "metadata": {
  "kernelspec": {
   "display_name": ".venvAutogluon",
   "language": "python",
   "name": "python3"
  },
  "language_info": {
   "codemirror_mode": {
    "name": "ipython",
    "version": 3
   },
   "file_extension": ".py",
   "mimetype": "text/x-python",
   "name": "python",
   "nbconvert_exporter": "python",
   "pygments_lexer": "ipython3",
   "version": "3.10.12"
  }
 },
 "nbformat": 4,
 "nbformat_minor": 2
}
